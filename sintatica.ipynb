{
 "cells": [
  {
   "cell_type": "code",
   "execution_count": null,
   "metadata": {},
   "outputs": [],
   "source": [
    "#Tabela de analise sintatica\n",
    "Tabela = {} # Matriz de n não terminais por m terminais\n",
    "for non_terminal in Tabela.keys():\n",
    "    for symbols in FIRST[non_terminal]:\n",
    "        if symbols == '':\n",
    "            FOLLOW[non_terminal] = Tabela.values()\n",
    "            \n",
    "para cada alternativa em producoes[não_terminal]:\n",
    "    # Adicionar toda produção que produz `simbolo` à Tabela sintática"
   ]
  },
  {
   "cell_type": "code",
   "execution_count": null,
   "metadata": {},
   "outputs": [],
   "source": [
    "#Parser LL(1)\n",
    "from collections import deque\n",
    " \n",
    "pilha = deque()\n",
    "palavra = “(())” # input a ser analisado\n",
    "i_palavra = 0\n",
    "# Adicionar símbolo de fim de sentença e símbolo inicial da gramática\n",
    "while pilha: \n",
    "    topo = pilha.top()\n",
    "    if topo == '$' and i_palavra == len(palavra):\n",
    "        # Acabou!\n",
    "    produção = Tabela[topo][palavra[i]]\n",
    "    # Adiciona a produção (invertida) a pilha\n",
    "    # Se não existir produção para a opção atual, gera erro sintático"
   ]
  }
 ],
 "metadata": {
  "language_info": {
   "name": "python"
  },
  "orig_nbformat": 4
 },
 "nbformat": 4,
 "nbformat_minor": 2
}
