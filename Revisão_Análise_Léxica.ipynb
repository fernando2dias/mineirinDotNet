{
  "cells": [
    {
      "cell_type": "markdown",
      "metadata": {
        "id": "view-in-github",
        "colab_type": "text"
      },
      "source": [
        "<a href=\"https://colab.research.google.com/github/fernando2dias/mineirinDotNet/blob/main/Revis%C3%A3o_An%C3%A1lise_L%C3%A9xica.ipynb\" target=\"_parent\"><img src=\"https://colab.research.google.com/assets/colab-badge.svg\" alt=\"Open In Colab\"/></a>"
      ]
    },
    {
      "cell_type": "code",
      "execution_count": 8,
      "metadata": {
        "id": "vrcy-pZfKUNu",
        "outputId": "a46cd0f6-629a-4060-df01-6fad452b312d",
        "colab": {
          "base_uri": "https://localhost:8080/"
        }
      },
      "outputs": [
        {
          "output_type": "stream",
          "name": "stdout",
          "text": [
            "Overwriting codigo.x\n"
          ]
        }
      ],
      "source": [
        "%%writefile codigo.x\n",
        "init a\n",
        "init b\n",
        "init c\n",
        "\n",
        "a = 5\n",
        "b = 3\n",
        "c = \"12\"\n",
        "\n",
        "result = a + b"
      ]
    },
    {
      "cell_type": "code",
      "execution_count": 9,
      "metadata": {
        "id": "WD8fzJC-KUNw",
        "outputId": "db125a0b-56c0-4d38-e00c-195870c08aac",
        "colab": {
          "base_uri": "https://localhost:8080/"
        }
      },
      "outputs": [
        {
          "output_type": "stream",
          "name": "stdout",
          "text": [
            "init a\n",
            "init b\n",
            "init c\n",
            "\n",
            "a = 5\n",
            "b = 3\n",
            "c = \"12\"\n",
            "\n",
            "result = a + b\n"
          ]
        }
      ],
      "source": [
        "## lendo o código fonte\n",
        "import re\n",
        "arquivo = open('codigo.x','r')\n",
        "for l in arquivo.readlines():\n",
        "    l = l.replace('\\n','') # remove a quebra de linha\n",
        "    print(l)"
      ]
    },
    {
      "cell_type": "code",
      "execution_count": null,
      "metadata": {
        "id": "Eph9gCxKKUNw"
      },
      "outputs": [],
      "source": [
        "## iniciando a definição dos tokens que serão a saída da análise léxica\n",
        "\n",
        "T_KEYWORDS_INIT = \"<keyword init>\"\n",
        "T_OP = \"<op %s>\"\n",
        "T_INT = \"<int %s>\"\n",
        "T_STRING = \"<string %s>\"\n",
        "T_IDENTIF = \"<id %s>\"\n",
        "\n",
        "arquivo = open('codigo.x','r')\n",
        "for l in arquivo.readlines():\n",
        "    l = l.replace('\\n','') # remove a quebra de linha\n",
        "    if len(l) == 0:\n",
        "        continue\n",
        "    \n",
        "    tokens = []\n",
        "    for token in l.split():\n",
        "        tokens.append(token)\n",
        "    print(tokens)"
      ]
    },
    {
      "cell_type": "code",
      "execution_count": 17,
      "metadata": {
        "id": "60BqeLOTKUNx",
        "outputId": "4d524c0c-834a-475d-bf37-ff8a5d66e082",
        "colab": {
          "base_uri": "https://localhost:8080/",
          "height": 356
        }
      },
      "outputs": [
        {
          "output_type": "error",
          "ename": "TypeError",
          "evalue": "ignored",
          "traceback": [
            "\u001b[0;31m---------------------------------------------------------------------------\u001b[0m",
            "\u001b[0;31mTypeError\u001b[0m                                 Traceback (most recent call last)",
            "\u001b[0;32m<ipython-input-17-23aa79803b9e>\u001b[0m in \u001b[0;36m<module>\u001b[0;34m\u001b[0m\n\u001b[1;32m     25\u001b[0m     \u001b[0mtokens\u001b[0m \u001b[0;34m=\u001b[0m \u001b[0;34m[\u001b[0m\u001b[0;34m]\u001b[0m\u001b[0;34m\u001b[0m\u001b[0;34m\u001b[0m\u001b[0m\n\u001b[1;32m     26\u001b[0m     \u001b[0;32mfor\u001b[0m \u001b[0mtoken\u001b[0m \u001b[0;32min\u001b[0m \u001b[0ml\u001b[0m\u001b[0;34m.\u001b[0m\u001b[0msplit\u001b[0m\u001b[0;34m(\u001b[0m\u001b[0;34m)\u001b[0m\u001b[0;34m:\u001b[0m\u001b[0;34m\u001b[0m\u001b[0;34m\u001b[0m\u001b[0m\n\u001b[0;32m---> 27\u001b[0;31m         \u001b[0mtokens\u001b[0m\u001b[0;34m.\u001b[0m\u001b[0mappend\u001b[0m\u001b[0;34m(\u001b[0m\u001b[0mafd_principal\u001b[0m\u001b[0;34m(\u001b[0m\u001b[0mtoken\u001b[0m\u001b[0;34m)\u001b[0m\u001b[0;34m)\u001b[0m\u001b[0;34m\u001b[0m\u001b[0;34m\u001b[0m\u001b[0m\n\u001b[0m\u001b[1;32m     28\u001b[0m \u001b[0;34m\u001b[0m\u001b[0m\n\u001b[1;32m     29\u001b[0m     \u001b[0mprint\u001b[0m\u001b[0;34m(\u001b[0m\u001b[0mtokens\u001b[0m\u001b[0;34m)\u001b[0m\u001b[0;34m\u001b[0m\u001b[0;34m\u001b[0m\u001b[0m\n",
            "\u001b[0;32m<ipython-input-17-23aa79803b9e>\u001b[0m in \u001b[0;36mafd_principal\u001b[0;34m(token)\u001b[0m\n\u001b[1;32m     15\u001b[0m     \u001b[0;32melif\u001b[0m \u001b[0mre\u001b[0m\u001b[0;34m.\u001b[0m\u001b[0msearch\u001b[0m\u001b[0;34m(\u001b[0m\u001b[0;34m'[0-9]'\u001b[0m\u001b[0;34m,\u001b[0m \u001b[0mtoken\u001b[0m\u001b[0;34m)\u001b[0m\u001b[0;34m:\u001b[0m\u001b[0;34m\u001b[0m\u001b[0;34m\u001b[0m\u001b[0m\n\u001b[1;32m     16\u001b[0m         \u001b[0;32mreturn\u001b[0m \u001b[0mT_INT\u001b[0m \u001b[0;34m%\u001b[0m \u001b[0mtoken\u001b[0m\u001b[0;34m\u001b[0m\u001b[0;34m\u001b[0m\u001b[0m\n\u001b[0;32m---> 17\u001b[0;31m     \u001b[0;32melif\u001b[0m \u001b[0mre\u001b[0m\u001b[0;34m.\u001b[0m\u001b[0mfullmatch\u001b[0m\u001b[0;34m(\u001b[0m\u001b[0;34mr'\"(.*?)\"'\u001b[0m\u001b[0;34m)\u001b[0m\u001b[0;34m:\u001b[0m\u001b[0;34m\u001b[0m\u001b[0;34m\u001b[0m\u001b[0m\n\u001b[0m\u001b[1;32m     18\u001b[0m         \u001b[0;32mreturn\u001b[0m \u001b[0mT_STRING\u001b[0m \u001b[0;34m%\u001b[0m \u001b[0mtoken\u001b[0m\u001b[0;34m\u001b[0m\u001b[0;34m\u001b[0m\u001b[0m\n\u001b[1;32m     19\u001b[0m \u001b[0;34m\u001b[0m\u001b[0m\n",
            "\u001b[0;31mTypeError\u001b[0m: fullmatch() missing 1 required positional argument: 'string'"
          ]
        }
      ],
      "source": [
        "## definindo o afd principal para processar e categorizar os tokens\n",
        "\n",
        "T_KEYWORDS_INIT = \"<keyword init>\"\n",
        "T_OP = \"<op %s>\"\n",
        "T_INT = \"<int %s>\"\n",
        "T_STRING = \"<string %s>\"\n",
        "T_IDENTIF = \"<id %s>\"\n",
        "\n",
        "def afd_principal(token):\n",
        "    \n",
        "    if token == \"init\":\n",
        "        return T_KEYWORDS_INIT\n",
        "    elif token == \"=\":\n",
        "        return T_OP % token\n",
        "    elif re.search('[0-9]', token):\n",
        "        return T_INT % token\n",
        "    elif re.fullmatch(r'\"(.*?)\"'):\n",
        "        return T_STRING % token\n",
        "\n",
        "    return None\n",
        "    \n",
        "arquivo = open('codigo.x','r')\n",
        "for l in arquivo.readlines():\n",
        "    l = l.replace('\\n','') # remove a quebra de linha\n",
        "    tokens = []\n",
        "    for token in l.split():\n",
        "        tokens.append(afd_principal(token))\n",
        "            \n",
        "    print(tokens)"
      ]
    },
    {
      "cell_type": "code",
      "execution_count": 21,
      "metadata": {
        "id": "b5hHd60bKUNx",
        "outputId": "6091cef2-aee2-4bc3-f47c-b54d245c1446",
        "colab": {
          "base_uri": "https://localhost:8080/"
        }
      },
      "outputs": [
        {
          "output_type": "stream",
          "name": "stdout",
          "text": [
            "['<keyword init>', '<var a>']\n",
            "['<keyword init>', '<var b>']\n",
            "['<keyword init>', '<var c>']\n",
            "[]\n",
            "['<var a>', '<op =>', '<int 5>']\n",
            "['<var b>', '<op =>', '<int 3>']\n",
            "['<var c>', '<op =>', '<int \"12\">']\n",
            "[]\n",
            "['<var result>', '<op =>', '<var a>', '<var +>', '<var b>']\n"
          ]
        }
      ],
      "source": [
        "## definindo uma mensagem de erro para tokens que não puderem ser processados\n",
        "\n",
        "T_KEYWORDS_INIT = \"<keyword init>\"\n",
        "T_OP = \"<op %s>\"\n",
        "T_INT = \"<int %s>\"\n",
        "T_STRING = \"<string %s>\"\n",
        "T_IDENTVAR = \"<var %s>\"\n",
        "\n",
        "class LexicalAnalysisError(Exception):\n",
        "    pass\n",
        "\n",
        "def afd_principal(token):\n",
        "    \n",
        "    if token == \"init\":\n",
        "        return T_KEYWORDS_INIT\n",
        "    elif token == \"=\":\n",
        "        return T_OP % token\n",
        "    elif re.search('[0-9]', token):\n",
        "        return T_INT % token\n",
        "    elif re.fullmatch(r'\"(.*?)\"', token):\n",
        "        return T_STRING % token\n",
        "    elif re.fullmatch(r'(.*?)', token):\n",
        "        return T_IDENTVAR % token\n",
        "    else:\n",
        "        raise LexicalAnalysisError('Valor \"%s\" inesperado' % token)\n",
        "    \n",
        "arquivo = open('codigo.x','r')\n",
        "ln = 1\n",
        "for l in arquivo.readlines():\n",
        "    l = l.replace('\\n','') # remove a quebra de linha\n",
        "    tokens = []\n",
        "    for token in l.split():\n",
        "        try:\n",
        "            tokens.append(afd_principal(token))\n",
        "        except LexicalAnalysisError as e:\n",
        "            print(tokens)\n",
        "            print(str(e) + \" na posição %i da linha %i\" % (l.index(token), ln))\n",
        "            raise\n",
        "    ln += 1\n",
        "\n",
        "    print(tokens)"
      ]
    }
  ],
  "metadata": {
    "kernelspec": {
      "display_name": "Python 3 (ipykernel)",
      "language": "python",
      "name": "python3"
    },
    "language_info": {
      "codemirror_mode": {
        "name": "ipython",
        "version": 3
      },
      "file_extension": ".py",
      "mimetype": "text/x-python",
      "name": "python",
      "nbconvert_exporter": "python",
      "pygments_lexer": "ipython3",
      "version": "3.8.10"
    },
    "vscode": {
      "interpreter": {
        "hash": "916dbcbb3f70747c44a77c7bcd40155683ae19c65e1c03b4aa3499c5328201f1"
      }
    },
    "colab": {
      "provenance": [],
      "include_colab_link": true
    }
  },
  "nbformat": 4,
  "nbformat_minor": 0
}