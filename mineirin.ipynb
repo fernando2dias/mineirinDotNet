{
<<<<<<< HEAD
  "cells": [
=======
 "cells": [
  {
   "cell_type": "code",
   "execution_count": 2,
   "metadata": {},
   "outputs": [],
   "source": [
    "import re\n"
   ]
  },
  {
   "cell_type": "code",
   "execution_count": 6,
   "metadata": {},
   "outputs": [],
   "source": [
    "operadores = {\"soma\": \"+.+\", \"subtracao\": \"-.-\", \"multiplicacao\": \"*.*\", \"divisao\" : \"/./\", \"potencia\" : \"**.**\", \"mudulo\":\"%.%\"}\n",
    "operadores_relacionais = {\"igual\" : \"=.=\", \"diferente\" : \"\\./\", \"menor\" : \"<.<\", \"maior\" : \">.>\", \"maior_igual\" : \">.=\", \"menor_igual\" : \"<.=\"}\n",
    "operadores_logicos = {\"and\" : \"&.&\", \"or\" : \"ˆ.ˆ\", \"not\" : \"!.!\"}\n",
    "variaveis_tipos = {\"int\" : \"#intero\", \"float\" : \"#quebradrin\", \"string\" : \"#trenzinDeChar\", \"char\" : \"#charzin\", \"atribuir\" : \".=\"}\n",
    "operador_reservado = {\"main\" : \"Trem\", \"if\" : \"TemBase\", \"else\" : \"TemGaioNao\" ,\"abre_parenteses\" : \"(\", \"fecha_parenteses\" : \")\", \"abre_chaves\" : \"{\", \"fecha+chaves\" : \"}\" }\n",
    "\n"
   ]
  },
  {
   "cell_type": "code",
   "execution_count": 5,
   "metadata": {},
   "outputs": [
>>>>>>> de64edee233c0c943b1085ee1489f5e6a2767a53
    {
      "cell_type": "code",
      "execution_count": 31,
      "metadata": {
        "id": "hiRXSuxJPRpK"
      },
      "outputs": [],
      "source": [
        "import re\n"
      ]
    },
    {
      "cell_type": "code",
      "execution_count": 32,
      "metadata": {
        "id": "5oGg-YGBPRpN"
      },
      "outputs": [],
      "source": [
        "operadores = {\"soma\": \"+.+\", \"subtracao\": \"-.-\", \"multiplicacao\": \"*.*\", \"divisao\" : \"/./\", \"potencia\" : \"**.**\", \"mudulo\":\"%.%\"}\n",
        "operadores_relacionais = {\"igual\" : \"=.=\", \"diferente\" : \"\\./\", \"menor\" : \"<.<\", \"maior\" : \">.>\", \"maior_igual\" : \">.=\", \"menor_igual\" : \"<.=\"}\n",
        "operadores_logicos = {\"and\" : \"&.&\", \"or\" : \"ˆ.ˆ\", \"not\" : \"!.!\"}\n",
        "variaveis_tipos = {\"int\" : \"#intero\", \"float\" : \"#quebradrin\", \"string\" : \"#trenzinDeChar\", \"char\" : \"#charzin\", \"atribuir\" : \".=\"}\n",
        "operador_reservado = {\"main\" : \"Trem\", \"if\" : \"TemBase\", \"else\" : \"TemGaioNao\" ,\"abre_parenteses\" : \"(\", \"fecha_parenteses\" : \")\", \"abre_chaves\" : \"{\", \"fecha+chaves\" : \"}\" }\n",
        "operador_inicial = {\"abre_parenteses\" : \"(\", \"abre_chaves\" : \"{\"}\n",
        "operador_terminal = {\"fecha_parenteses\" : \")\", \"fecha+chaves\" : \"}\"}"
      ]
    },
    {
      "cell_type": "code",
      "execution_count": 33,
      "metadata": {
        "colab": {
          "base_uri": "https://localhost:8080/"
        },
        "id": "S07YzGWCPRpP",
        "outputId": "4d24b32c-78ec-4bdd-d1b6-8976a39b8d4a"
      },
      "outputs": [
        {
          "output_type": "stream",
          "name": "stdout",
          "text": [
            "<soma> : +.+\n"
          ]
        }
      ],
      "source": [
        "with open('mineirin.txt', encoding='utf-8') as f:\n",
        "    for line in f.readlines():\n",
        "        for key, value in operadores.items():\n",
        "            if line.__contains__(value):\n",
        "                print(f'<{key}> : {value}')\n",
        "\n"
      ]
    },
    {
      "cell_type": "code",
      "execution_count": 38,
      "metadata": {
        "colab": {
          "base_uri": "https://localhost:8080/"
        },
        "id": "ivMTT6xFPRpR",
        "outputId": "537010d9-8bc9-4c78-e116-5f82bf153740"
      },
      "outputs": [
        {
          "output_type": "stream",
          "name": "stdout",
          "text": [
            "['Trem', '(', '\\n']\n",
            "<main> : Trem\n",
            "<abre_parenteses> : (\n",
            "['\\n']\n",
            "['#intero', 'numero1', '.=', '10', '\\n']\n",
            "<int> : #intero\n",
            "<atribuir> : .=\n",
            "['#intero', 'numero2', '.=', '5', '\\n']\n",
            "<int> : #intero\n",
            "<atribuir> : .=\n",
            "['#intero', 'soma', '\\n']\n",
            "<int> : #intero\n",
            "['\\n']\n",
            "['soma', '.=', 'numero1', '+.+', 'numero2', ')', '']\n",
            "<soma> : +.+\n",
            "<atribuir> : .=\n",
            "<fecha_parenteses> : )\n",
            "['main', 'abre_parenteses', 'int', 'atribuir', 'int', 'atribuir', 'int', 'soma', 'atribuir', 'fecha_parenteses']\n",
            "['1', '2']\n"
          ]
        }
      ],
      "source": [
        "tokens = []\n",
        "with open('mineirin.txt', encoding='utf-8') as f:\n",
        "    for line in f.readlines():\n",
        "      lines = line.split(\" \")\n",
        "      print(lines)\n",
        "      for key, value in operadores.items():\n",
        "        if lines.__contains__(value):\n",
        "            print(f'<{key}> : {value}')\n",
        "            tokens.append(key)\n",
        "      for key, value in operadores_relacionais.items():\n",
        "        if lines.__contains__(value):\n",
        "            print(f'<{key}> : {value}')\n",
        "            tokens.append(key)\n",
        "      for key, value in operadores_logicos.items():\n",
        "        if lines.__contains__(value):\n",
        "            print(f'<{key}> : {value}')\n",
        "            tokens.append(key)\n",
        "      for key, value in variaveis_tipos.items():\n",
        "        if lines.__contains__(value):\n",
        "            print(f'<{key}> : {value}')\n",
        "            tokens.append(key)\n",
        "      for key, value in operador_reservado.items():\n",
        "        if lines.__contains__(value):\n",
        "            print(f'<{key}> : {value}')\n",
        "            tokens.append(key)\n",
        "      numeros = re.findall('[0-9]+', line)\n",
        "print(tokens)\n",
        "print(numeros)\n",
        "      # for key, value in operador_inicial.items():\n",
        "      #   if tokens.__contains__(value):\n",
        "      #       print(f'<{key}> : {value}')\n",
        "      # for key, value in operador_terminal.items():\n",
        "      #   if tokens.__contains__(value):\n",
        "      #       print(f'<{key}> : {value}')"
      ]
    },
    {
      "cell_type": "code",
      "execution_count": null,
      "metadata": {
        "id": "KwrnulbSPRpR"
      },
      "outputs": [],
      "source": []
    }
  ],
  "metadata": {
    "interpreter": {
      "hash": "31f2aee4e71d21fbe5cf8b01ff0e069b9275f58929596ceb00d14d90e3e16cd6"
    },
    "kernelspec": {
      "display_name": "Python 3.9.6 64-bit",
      "name": "python3"
    },
    "language_info": {
      "codemirror_mode": {
        "name": "ipython",
        "version": 3
      },
      "file_extension": ".py",
      "mimetype": "text/x-python",
      "name": "python",
      "nbconvert_exporter": "python",
      "pygments_lexer": "ipython3",
      "version": "3.9.6"
    },
    "orig_nbformat": 4,
    "colab": {
      "provenance": [],
      "collapsed_sections": []
    }
  },
  "nbformat": 4,
  "nbformat_minor": 0
}