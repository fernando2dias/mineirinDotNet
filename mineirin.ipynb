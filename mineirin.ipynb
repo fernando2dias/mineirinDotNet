{
 "cells": [
  {
   "cell_type": "code",
   "execution_count": 2,
   "metadata": {},
   "outputs": [],
   "source": [
    "import re\n"
   ]
  },
  {
   "cell_type": "code",
   "execution_count": 6,
   "metadata": {},
   "outputs": [],
   "source": [
    "operadores = {\"soma\": \"+.+\", \"subtracao\": \"-.-\", \"multiplicacao\": \"*.*\", \"divisao\" : \"/./\", \"potencia\" : \"**.**\", \"mudulo\":\"%.%\"}\n",
    "operadores_relacionais = {\"igual\" : \"=.=\", \"diferente\" : \"\\./\", \"menor\" : \"<.<\", \"maior\" : \">.>\", \"maior_igual\" : \">.=\", \"menor_igual\" : \"<.=\"}\n",
    "operadores_logicos = {\"and\" : \"&.&\", \"or\" : \"ˆ.ˆ\", \"not\" : \"!.!\"}\n",
    "variaveis_tipos = {\"int\" : \"#intero\", \"float\" : \"#quebradrin\", \"string\" : \"#trenzinDeChar\", \"char\" : \"#charzin\", \"atribuir\" : \".=\"}"
   ]
  },
  {
   "cell_type": "code",
   "execution_count": 5,
   "metadata": {},
   "outputs": [
    {
     "name": "stdout",
     "output_type": "stream",
     "text": [
      "<soma> : +.+\n"
     ]
    }
   ],
   "source": [
    "with open('mineirin.txt', encoding='utf-8') as f:\n",
    "    for line in f.readlines():\n",
    "        for key, value in operadores.items():\n",
    "            if line.__contains__(value):\n",
    "                print(f'<{key}> : {value}')\n",
    "\n"
   ]
  },
  {
   "cell_type": "code",
   "execution_count": null,
   "metadata": {},
   "outputs": [],
   "source": []
  },
  {
   "cell_type": "code",
   "execution_count": null,
   "metadata": {},
   "outputs": [],
   "source": []
  }
 ],
 "metadata": {
  "interpreter": {
   "hash": "31f2aee4e71d21fbe5cf8b01ff0e069b9275f58929596ceb00d14d90e3e16cd6"
  },
  "kernelspec": {
   "display_name": "Python 3.8.9 64-bit",
   "name": "python3"
  },
  "language_info": {
   "codemirror_mode": {
    "name": "ipython",
    "version": 3
   },
   "file_extension": ".py",
   "mimetype": "text/x-python",
   "name": "python",
   "nbconvert_exporter": "python",
   "pygments_lexer": "ipython3",
   "version": "3.9.6"
  },
  "orig_nbformat": 4
 },
 "nbformat": 4,
 "nbformat_minor": 2
}
