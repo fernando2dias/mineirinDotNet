{
 "cells": [
  {
   "cell_type": "code",
   "execution_count": null,
   "metadata": {},
   "outputs": [],
   "source": [
    "FOLLOW # Dict[str, set]\n",
    "def follow(string, nao_terminais, terminais, producoes, símbolo_inicial):\n",
    "    if string == símbolo_inicial:\n",
    "# incluir símbolo fim de sentença\n",
    "        for producao in producoes:\n",
    "            for alternativa in producao:\n",
    "                for char in alternativa:\n",
    "                    if char == string:\n",
    "                        if string[pos_char:] and vazio:\n",
    "                            FOLLOW[string] = FOLLOW[string].append(follow(producao))\n",
    "                        else:\n",
    "                            aux = first(string[pos_char+1])\n",
    "                            if aux in vazio:\n",
    "   # processar os próximos simbolos até encontrar terminal\n",
    "                # cuidado, se chegar no fim da alternativa\n",
    "    return FOLLOW[string]"
   ]
  }
 ],
 "metadata": {
  "language_info": {
   "name": "python"
  },
  "orig_nbformat": 4
 },
 "nbformat": 4,
 "nbformat_minor": 2
}
